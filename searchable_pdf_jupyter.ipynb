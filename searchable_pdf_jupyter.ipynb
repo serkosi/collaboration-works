{
 "cells": [
  {
   "cell_type": "code",
   "execution_count": 1,
   "id": "d51c7e8e",
   "metadata": {},
   "outputs": [
    {
     "name": "stderr",
     "output_type": "stream",
     "text": [
      "java version \"1.8.0_301\"\n",
      "Java(TM) SE Runtime Environment (build 1.8.0_301-b09)\n",
      "Java HotSpot(TM) Client VM (build 25.301-b09, mixed mode, sharing)\n"
     ]
    }
   ],
   "source": [
    "!java -version"
   ]
  },
  {
   "cell_type": "code",
   "execution_count": 3,
   "id": "f037b6c4",
   "metadata": {},
   "outputs": [
    {
     "name": "stdout",
     "output_type": "stream",
     "text": [
      "Python version:\n",
      "    3.8.5 (default, Sep  3 2020, 21:29:08) [MSC v.1916 64 bit (AMD64)]\n",
      "Java version:\n",
      "    java version \"1.8.0_301\"\r\n",
      "Java(TM) SE Runtime Environment (build 1.8.0_301-b09)\r\n",
      "Java HotSpot(TM) Client VM (build 25.301-b09, mixed mode, sharing)\n",
      "tabula-py version: 2.3.0\n",
      "platform: Windows-10-10.0.19041-SP0\n",
      "uname:\n",
      "    uname_result(system='Windows', node='DESKTOP-LMOBBSO', release='10', version='10.0.19041', machine='AMD64', processor='Intel64 Family 6 Model 142 Stepping 11, GenuineIntel')\n",
      "linux_distribution: ('', '', '')\n",
      "mac_ver: ('', ('', '', ''), '')\n",
      "    \n"
     ]
    }
   ],
   "source": [
    "import tabula\n",
    "tabula.environment_info()"
   ]
  },
  {
   "cell_type": "code",
   "execution_count": 5,
   "id": "42ab6f37",
   "metadata": {},
   "outputs": [],
   "source": [
    "import os"
   ]
  },
  {
   "cell_type": "code",
   "execution_count": 23,
   "id": "e1d724bb",
   "metadata": {},
   "outputs": [],
   "source": [
    "files = os.listdir(r\"C:/Users/serha/OneDrive/Masaüstü/MyRepo/OCR-project/input\") \n",
    "#files contain the list of files present in the folder"
   ]
  },
  {
   "cell_type": "code",
   "execution_count": 24,
   "id": "73534f4d",
   "metadata": {
    "scrolled": true
   },
   "outputs": [
    {
     "name": "stdout",
     "output_type": "stream",
     "text": [
      "['Allianz boyalı poliçe pdf[2].pdf', 'Axa poliçe boyalı pdf[1].pdf', 'Demir boyalı poliçe pdf[1].pdf', 'NN boyalı poliçe pdf[1].pdf']\n"
     ]
    }
   ],
   "source": [
    "print(files)"
   ]
  },
  {
   "cell_type": "code",
   "execution_count": 48,
   "id": "12cc763b",
   "metadata": {
    "scrolled": false
   },
   "outputs": [
    {
     "name": "stdout",
     "output_type": "stream",
     "text": [
      "11\n"
     ]
    },
    {
     "data": {
      "text/plain": [
       "[  SİGORTALI BİLGİLERİ    Unnamed: 0  Unnamed: 1             Unnamed: 2  \\\n",
       " 0   AD SOYAD CİNSİYET  DOĞUM TARİHİ  BİREY TİPİ  TCK/VERGİ/PASAPORT NO   \n",
       " 1       FATMA TEKÇE K    23/12/1995     Kendisi            16211320400   \n",
       " \n",
       "      Unnamed: 3  \n",
       " 0     BRÜT PRİM  \n",
       " 1  4,921.35 TRY  ,\n",
       "      ÖDEME PLANI BİLGİLERİ     Unnamed: 0   Unnamed: 1\n",
       " 0  TAKSİT NO TAKSİT TARİHİ  TAKSIT TUTARI   ÖDEME TİPİ\n",
       " 1       Peşinat 25/03/2021     984.27 TRY  Kredi Kartı\n",
       " 2      2.Taksit 25/04/2021     984.27 TRY  Kredi Kartı\n",
       " 3      3.Taksit 25/05/2021     984.27 TRY  Kredi Kartı\n",
       " 4      4.Taksit 25/06/2021     984.27 TRY  Kredi Kartı\n",
       " 5      5.Taksit 25/07/2021     984.27 TRY  Kredi Kartı,\n",
       "             POLİÇE BİLGİLERİ Unnamed: 0             Unnamed: 1  \\\n",
       " 0  POLİÇE KAYIT NO/POLİÇE NO          :  1997895/6601001997895   \n",
       " 1           SAGMER TARİFE NO          :                  11864   \n",
       " 2    POLİÇE BAŞLANGIÇ TARİHİ          :             25/03/2021   \n",
       " 3        POLİÇE BİTİŞ TARİHİ          :             25/03/2022   \n",
       " 4              POLİÇE SÜRESİ          :                    365   \n",
       " 5                YENİLEME NO          :                      1   \n",
       " 6                    SIRA NO          :               11520165   \n",
       " 7            ACENTE LEVHA NO          :           BR1665-80293   \n",
       " \n",
       "               Unnamed: 2 Unnamed: 3    Unnamed: 4  \n",
       " 0      GENEL ŞART TARİHİ          :    15.06.2016  \n",
       " 1       ÖZEL ŞART TARİHİ          :    15.02.2021  \n",
       " 2  ZEYL BAŞLANGIÇ TARİHİ          :    25/03/2021  \n",
       " 3     ZEYL TANZİM TARİHİ          :    25/03/2021  \n",
       " 4                ZEYL NO          :             1  \n",
       " 5               NET PRİM          :  4,921.35 TRY  \n",
       " 6                   BSMV          :      0.00 TRY  \n",
       " 7              BRÜT PRİM          :  4,921.35 TRY  ,\n",
       "            *YATARAK TEDAVİ    YILLIK 10,000 TRY  100\n",
       " 0    HASTANE MEDİKAL YATIŞ    YILLIK 10,000 TRY  100\n",
       " 1    HASTANE CERRAHİ YATIŞ    YILLIK 10,000 TRY  100\n",
       " 2         AMELİYAT MALZEME    YILLIK 10,000 TRY  100\n",
       " 3              YOĞUN BAKIM    YILLIK 10,000 TRY  100\n",
       " 4               KEMOTERAPİ    YILLIK 10,000 TRY  100\n",
       " 5              RADYOTERAPİ    YILLIK 10,000 TRY  100\n",
       " 6                  DİYALİZ    YILLIK 10,000 TRY  100\n",
       " 7   KÜÇÜK CERRAHİ MÜDAHELE    YILLIK 10,000 TRY  100\n",
       " 8       KORONER ANJİOGRAFİ    YILLIK 10,000 TRY  100\n",
       " 9           *AYAKTA TEDAVİ  ADET LİMİTLİ 8 ADET  100\n",
       " 10          DOKTOR MUAYENE  ADET LİMİTLİ 8 ADET  100\n",
       " 11                  TAHLİL  ADET LİMİTLİ 8 ADET  100\n",
       " 12                 RÖNTGEN  ADET LİMİTLİ 8 ADET  100\n",
       " 13            İLERİ TEŞHİS  ADET LİMİTLİ 8 ADET  100\n",
       " 14            FİZİK TEDAVİ  ADET LİMİTLİ 8 ADET  100\n",
       " 15                  *DOĞUM      YILLIK LİMİTSİZ  100\n",
       " 16            NORMAL DOĞUM      YILLIK LİMİTSİZ  100\n",
       " 17          SEZARYEN DOĞUM      YILLIK LİMİTSİZ  100\n",
       " 18   EPİDURAL NORMAL DOĞUM      YILLIK LİMİTSİZ  100\n",
       " 19             *DİYETİSYEN  ADET LİMİTLİ 2 ADET  100\n",
       " 20      DİYETİSYEN MUAYENE  ADET LİMİTLİ 2 ADET  100\n",
       " 21    *PSİKOLOJİK DANIŞMAN  ADET LİMİTLİ 2 ADET  100\n",
       " 22      PSİKOLOJİK MUAYENE  ADET LİMİTLİ 2 ADET  100,\n",
       "            POLİÇE KAYIT NO  : 1997895/6601001997895      GENEL ŞART TARİHİ  \\\n",
       " 0         SAGMER TARİFE NO  :                 11864       ÖZEL ŞART TARİHİ   \n",
       " 1  POLİÇE BAŞLANGIÇ TARİHİ  :            25/03/2021  ZEYL BAŞLANGIÇ TARİHİ   \n",
       " 2      POLİÇE BİTİŞ TARİHİ  :            25/03/2022     ZEYL TANZİM TARİHİ   \n",
       " 3            POLİÇE SÜRESİ  :                   365                ZEYL NO   \n",
       " 4              YENİLEME NO  :                     1               NET PRİM   \n",
       " 5                  SIRA NO  :              11520165                   BSMV   \n",
       " 6          ACENTE LEVHA NO  :          BR1665-80293              BRÜT PRİM   \n",
       " \n",
       "   :.1    15.06.2016  \n",
       " 0   :    15.02.2021  \n",
       " 1   :    25/03/2021  \n",
       " 2   :    25/03/2021  \n",
       " 3   :             1  \n",
       " 4   :  4,921.35 TRY  \n",
       " 5   :      0.00 TRY  \n",
       " 6   :  4,921.35 TRY  ,\n",
       "                   Unnamed: 0      ANLAŞMALI KURUM ANLAŞMASIZ KURUM Unnamed: 1\n",
       " 0                TEMİNAT ADI                LİMİT     ÖDEME% LİMİT     ÖDEME%\n",
       " 1            *YATARAK TEDAVİ    YILLIK 10,000 TRY              100        NaN\n",
       " 2      HASTANE MEDİKAL YATIŞ    YILLIK 10,000 TRY              100        NaN\n",
       " 3      HASTANE CERRAHİ YATIŞ    YILLIK 10,000 TRY              100        NaN\n",
       " 4           AMELİYAT MALZEME    YILLIK 10,000 TRY              100        NaN\n",
       " 5                YOĞUN BAKIM    YILLIK 10,000 TRY              100        NaN\n",
       " 6                 KEMOTERAPİ    YILLIK 10,000 TRY              100        NaN\n",
       " 7                RADYOTERAPİ    YILLIK 10,000 TRY              100        NaN\n",
       " 8                    DİYALİZ    YILLIK 10,000 TRY              100        NaN\n",
       " 9     KÜÇÜK CERRAHİ MÜDAHELE    YILLIK 10,000 TRY              100        NaN\n",
       " 10        KORONER ANJİOGRAFİ    YILLIK 10,000 TRY              100        NaN\n",
       " 11            *AYAKTA TEDAVİ  ADET LİMİTLİ 8 ADET              100        NaN\n",
       " 12            DOKTOR MUAYENE  ADET LİMİTLİ 8 ADET              100        NaN\n",
       " 13                    TAHLİL  ADET LİMİTLİ 8 ADET              100        NaN\n",
       " 14                   RÖNTGEN  ADET LİMİTLİ 8 ADET              100        NaN\n",
       " 15              İLERİ TEŞHİS  ADET LİMİTLİ 8 ADET              100        NaN\n",
       " 16              FİZİK TEDAVİ  ADET LİMİTLİ 8 ADET              100        NaN\n",
       " 17                    *DOĞUM      YILLIK LİMİTSİZ              100        NaN\n",
       " 18              NORMAL DOĞUM      YILLIK LİMİTSİZ              100        NaN\n",
       " 19            SEZARYEN DOĞUM      YILLIK LİMİTSİZ              100        NaN\n",
       " 20     EPİDURAL NORMAL DOĞUM      YILLIK LİMİTSİZ              100        NaN\n",
       " 21               *DİYETİSYEN  ADET LİMİTLİ 2 ADET              100        NaN\n",
       " 22        DİYETİSYEN MUAYENE  ADET LİMİTLİ 2 ADET              100        NaN\n",
       " 23      *PSİKOLOJİK DANIŞMAN  ADET LİMİTLİ 2 ADET              100        NaN\n",
       " 24        PSİKOLOJİK MUAYENE  ADET LİMİTLİ 2 ADET              100        NaN\n",
       " 25  *ONLINE DOKTOR GÖRÜŞMESİ      YILLIK LİMİTSİZ              100        NaN,\n",
       "   POLİÇE KAYIT NO/POLİÇE NO  : 1997895/6601001997895      GENEL ŞART TARİHİ  \\\n",
       " 0          SAGMER TARİFE NO  :                 11864       ÖZEL ŞART TARİHİ   \n",
       " 1   POLİÇE BAŞLANGIÇ TARİHİ  :            25/03/2021  ZEYL BAŞLANGIÇ TARİHİ   \n",
       " 2       POLİÇE BİTİŞ TARİHİ  :            25/03/2022     ZEYL TANZİM TARİHİ   \n",
       " 3             POLİÇE SÜRESİ  :                   365                ZEYL NO   \n",
       " 4               YENİLEME NO  :                     1               NET PRİM   \n",
       " 5                   SIRA NO  :              11520165                   BSMV   \n",
       " 6           ACENTE LEVHA NO  :          BR1665-80293              BRÜT PRİM   \n",
       " \n",
       "   :.1    15.06.2016  \n",
       " 0   :    15.02.2021  \n",
       " 1   :    25/03/2021  \n",
       " 2   :    25/03/2021  \n",
       " 3   :             1  \n",
       " 4   :  4,921.35 TRY  \n",
       " 5   :      0.00 TRY  \n",
       " 6   :  4,921.35 TRY  ,\n",
       "     Peşinat  25/03/2021  984.27 TRY  Kredi Kartı\n",
       " 0  2.Taksit  25/04/2021  984.27 TRY  Kredi Kartı\n",
       " 1  3.Taksit  25/05/2021  984.27 TRY  Kredi Kartı\n",
       " 2  4.Taksit  25/06/2021  984.27 TRY  Kredi Kartı\n",
       " 3  5.Taksit  25/07/2021  984.27 TRY  Kredi Kartı,\n",
       "     POLİÇE KAYIT NO/POLİÇE NO : 1997895/6601001997895  Unnamed: 0  \\\n",
       " 0                            SAGMER TARİFE NO : 11864         NaN   \n",
       " 1                POLİÇE BAŞLANGIÇ TARİHİ : 25/03/2021         NaN   \n",
       " 2                    POLİÇE BİTİŞ TARİHİ : 25/03/2022         NaN   \n",
       " 3                                 POLİÇE SÜRESİ : 365         NaN   \n",
       " 4                                     YENİLEME NO : 1         NaN   \n",
       " 5                                  SIRA NO : 11520165         NaN   \n",
       " 6                      ACENTE LEVHA NO : BR1665-80293         NaN   \n",
       " 7   ACENTE NO / TİCARİ UNVANI : 0104034374 / GENÇ ...         NaN   \n",
       " 8   TEK.PER.NO / ADI SOYADI : 34_TP_026 / SİNAN ŞİRİN         NaN   \n",
       " 9                                    İGORTA ETTİRENİN         NaN   \n",
       " 10                             AD SOYAD : FATMA TEKÇE         NaN   \n",
       " 11              TCKNO/VERGİ/PASAPORT NO : 16211320400         NaN   \n",
       " 12  ADRES : ÖZGÜRLÜK MAH. 235. SK. NO: 4 İÇ KAPI N...         NaN   \n",
       " 13                                 İGORTALI BİLGİLERİ         NaN   \n",
       " 14                     AD SOYAD CİNSİYET DOĞUM TARİHİ         NaN   \n",
       " 15                           FATMA TEKÇE K 23/12/1995         NaN   \n",
       " 16                               DEME PLANI BİLGİLERİ         NaN   \n",
       " 17                            TAKSİT NO TAKSİT TARİHİ         NaN   \n",
       " 18                                 Peşinat 25/03/2021         NaN   \n",
       " 19                                2.Taksit 25/04/2021         NaN   \n",
       " 20                                3.Taksit 25/05/2021         NaN   \n",
       " 21                                4.Taksit 25/06/2021         NaN   \n",
       " 22                                5.Taksit 25/07/2021         NaN   \n",
       " \n",
       "                    GENEL ŞART TARİHİ    :    15.06.2016   Unnamed: 1  \n",
       " 0                   ÖZEL ŞART TARİHİ    :    15.02.2021          NaN  \n",
       " 1              ZEYL BAŞLANGIÇ TARİHİ    :    25/03/2021          NaN  \n",
       " 2                 ZEYL TANZİM TARİHİ    :    25/03/2021          NaN  \n",
       " 3                            ZEYL NO    :             1          NaN  \n",
       " 4                           NET PRİM    :  4,921.35 TRY          NaN  \n",
       " 5                               BSMV    :      0.00 TRY          NaN  \n",
       " 6                          BRÜT PRİM    :  4,921.35 TRY          NaN  \n",
       " 7                                NaN  NaN           NaN          NaN  \n",
       " 8                                NaN  NaN           NaN          NaN  \n",
       " 9                                NaN  NaN           NaN          NaN  \n",
       " 10                               NaN  NaN           NaN          NaN  \n",
       " 11                               NaN  NaN           NaN          NaN  \n",
       " 12                               NaN  NaN           NaN          NaN  \n",
       " 13                               NaN  NaN           NaN          NaN  \n",
       " 14  BİREY TİPİ TCK/VERGİ/PASAPORT NO  NaN           NaN          NaN  \n",
       " 15               Kendisi 16211320400  NaN           NaN     4,921.35  \n",
       " 16                               NaN  NaN           NaN          NaN  \n",
       " 17                     TAKSIT TUTARI  NaN           NaN    ÖDEME TİP  \n",
       " 18                        984.27 TRY  NaN           NaN  Kredi Kartı  \n",
       " 19                        984.27 TRY  NaN           NaN  Kredi Kartı  \n",
       " 20                        984.27 TRY  NaN           NaN  Kredi Kartı  \n",
       " 21                        984.27 TRY  NaN           NaN  Kredi Kartı  \n",
       " 22                        984.27 TRY  NaN           NaN  Kredi Kartı  ,\n",
       "            *YATARAK TEDAVİ    YILLIK 10,000 TRY  100\n",
       " 0    HASTANE MEDİKAL YATIŞ    YILLIK 10,000 TRY  100\n",
       " 1    HASTANE CERRAHİ YATIŞ    YILLIK 10,000 TRY  100\n",
       " 2         AMELİYAT MALZEME    YILLIK 10,000 TRY  100\n",
       " 3              YOĞUN BAKIM    YILLIK 10,000 TRY  100\n",
       " 4               KEMOTERAPİ    YILLIK 10,000 TRY  100\n",
       " 5              RADYOTERAPİ    YILLIK 10,000 TRY  100\n",
       " 6                  DİYALİZ    YILLIK 10,000 TRY  100\n",
       " 7   KÜÇÜK CERRAHİ MÜDAHELE    YILLIK 10,000 TRY  100\n",
       " 8       KORONER ANJİOGRAFİ    YILLIK 10,000 TRY  100\n",
       " 9           *AYAKTA TEDAVİ  ADET LİMİTLİ 8 ADET  100\n",
       " 10          DOKTOR MUAYENE  ADET LİMİTLİ 8 ADET  100\n",
       " 11                  TAHLİL  ADET LİMİTLİ 8 ADET  100\n",
       " 12                 RÖNTGEN  ADET LİMİTLİ 8 ADET  100\n",
       " 13            İLERİ TEŞHİS  ADET LİMİTLİ 8 ADET  100\n",
       " 14            FİZİK TEDAVİ  ADET LİMİTLİ 8 ADET  100\n",
       " 15                  *DOĞUM      YILLIK LİMİTSİZ  100\n",
       " 16            NORMAL DOĞUM      YILLIK LİMİTSİZ  100\n",
       " 17          SEZARYEN DOĞUM      YILLIK LİMİTSİZ  100\n",
       " 18   EPİDURAL NORMAL DOĞUM      YILLIK LİMİTSİZ  100\n",
       " 19             *DİYETİSYEN  ADET LİMİTLİ 2 ADET  100\n",
       " 20      DİYETİSYEN MUAYENE  ADET LİMİTLİ 2 ADET  100\n",
       " 21    *PSİKOLOJİK DANIŞMAN  ADET LİMİTLİ 2 ADET  100\n",
       " 22      PSİKOLOJİK MUAYENE  ADET LİMİTLİ 2 ADET  100,\n",
       "            POLİÇE KAYIT NO  : 1997895/6601001997895      GENEL ŞART TARİHİ  \\\n",
       " 0         SAGMER TARİFE NO  :                 11864       ÖZEL ŞART TARİHİ   \n",
       " 1  POLİÇE BAŞLANGIÇ TARİHİ  :            25/03/2021  ZEYL BAŞLANGIÇ TARİHİ   \n",
       " 2      POLİÇE BİTİŞ TARİHİ  :            25/03/2022     ZEYL TANZİM TARİHİ   \n",
       " 3            POLİÇE SÜRESİ  :                   365                ZEYL NO   \n",
       " 4              YENİLEME NO  :                     1               NET PRİM   \n",
       " 5                  SIRA NO  :              11520165                   BSMV   \n",
       " 6          ACENTE LEVHA NO  :          BR1665-80293              BRÜT PRİM   \n",
       " \n",
       "   :.1    15.06.2016  \n",
       " 0   :    15.02.2021  \n",
       " 1   :    25/03/2021  \n",
       " 2   :    25/03/2021  \n",
       " 3   :             1  \n",
       " 4   :  4,921.35 TRY  \n",
       " 5   :      0.00 TRY  \n",
       " 6   :  4,921.35 TRY  ]"
      ]
     },
     "execution_count": 48,
     "metadata": {},
     "output_type": "execute_result"
    }
   ],
   "source": [
    "pdf_path = \"C:/Users/serha/OneDrive/Masaüstü/MyRepo/OCR-project/input/Demir_boyali_police.pdf\"\n",
    "\n",
    "dfs = tabula.read_pdf(pdf_path, pages = 'all', stream=True)\n",
    "# read_pdf returns list of DataFrames\n",
    "print(len(dfs))\n",
    "dfs"
   ]
  },
  {
   "cell_type": "code",
   "execution_count": 25,
   "id": "c5beeff8",
   "metadata": {},
   "outputs": [
    {
     "name": "stderr",
     "output_type": "stream",
     "text": [
      "Error from tabula-java:\n",
      "Error: File does not exist\r\n",
      "\n",
      "\n"
     ]
    },
    {
     "ename": "CalledProcessError",
     "evalue": "Command '['java', '-Dfile.encoding=UTF8', '-jar', 'C:\\\\Users\\\\serha\\\\anaconda3\\\\lib\\\\site-packages\\\\tabula\\\\tabula-1.0.5-jar-with-dependencies.jar', '--pages', 'all', '--guess', '--format', 'JSON', 'C:/Users/serha/OneDrive/Masaüstü/MyRepo/OCR-project/input/Allianz boyalı poliçe pdf[2].pdf']' returned non-zero exit status 1.",
     "output_type": "error",
     "traceback": [
      "\u001b[1;31m---------------------------------------------------------------------------\u001b[0m",
      "\u001b[1;31mCalledProcessError\u001b[0m                        Traceback (most recent call last)",
      "\u001b[1;32m<ipython-input-25-9e6376d1e2ac>\u001b[0m in \u001b[0;36m<module>\u001b[1;34m\u001b[0m\n\u001b[0;32m      2\u001b[0m \u001b[1;32mfor\u001b[0m \u001b[0mfile\u001b[0m \u001b[1;32min\u001b[0m \u001b[0mfiles\u001b[0m\u001b[1;33m:\u001b[0m\u001b[1;33m\u001b[0m\u001b[1;33m\u001b[0m\u001b[0m\n\u001b[0;32m      3\u001b[0m     \u001b[0mpath\u001b[0m \u001b[1;33m=\u001b[0m \u001b[1;34m\"C:/Users/serha/OneDrive/Masaüstü/MyRepo/OCR-project/input/\"\u001b[0m \u001b[1;33m+\u001b[0m \u001b[0mfile\u001b[0m\u001b[1;33m\u001b[0m\u001b[1;33m\u001b[0m\u001b[0m\n\u001b[1;32m----> 4\u001b[1;33m     \u001b[0mdf\u001b[0m \u001b[1;33m=\u001b[0m \u001b[0mtabula\u001b[0m\u001b[1;33m.\u001b[0m\u001b[0mread_pdf\u001b[0m\u001b[1;33m(\u001b[0m\u001b[0mpath\u001b[0m\u001b[1;33m,\u001b[0m \u001b[0mpages\u001b[0m \u001b[1;33m=\u001b[0m \u001b[1;34m'all'\u001b[0m\u001b[1;33m,\u001b[0m \u001b[0mmultiple_tables\u001b[0m \u001b[1;33m=\u001b[0m \u001b[1;32mTrue\u001b[0m\u001b[1;33m)\u001b[0m \u001b[1;31m#page no which you want to\u001b[0m\u001b[1;33m\u001b[0m\u001b[1;33m\u001b[0m\u001b[0m\n\u001b[0m\u001b[0;32m      5\u001b[0m                                                                     \u001b[1;31m#extract,or 'all' for all the pages\u001b[0m\u001b[1;33m\u001b[0m\u001b[1;33m\u001b[0m\u001b[1;33m\u001b[0m\u001b[0m\n\u001b[0;32m      6\u001b[0m     \u001b[0mprint\u001b[0m\u001b[1;33m(\u001b[0m\u001b[0mdf\u001b[0m\u001b[1;33m)\u001b[0m\u001b[1;33m\u001b[0m\u001b[1;33m\u001b[0m\u001b[0m\n",
      "\u001b[1;32m~\\anaconda3\\lib\\site-packages\\tabula\\io.py\u001b[0m in \u001b[0;36mread_pdf\u001b[1;34m(input_path, output_format, encoding, java_options, pandas_options, multiple_tables, user_agent, **kwargs)\u001b[0m\n\u001b[0;32m    320\u001b[0m \u001b[1;33m\u001b[0m\u001b[0m\n\u001b[0;32m    321\u001b[0m     \u001b[1;32mtry\u001b[0m\u001b[1;33m:\u001b[0m\u001b[1;33m\u001b[0m\u001b[1;33m\u001b[0m\u001b[0m\n\u001b[1;32m--> 322\u001b[1;33m         \u001b[0moutput\u001b[0m \u001b[1;33m=\u001b[0m \u001b[0m_run\u001b[0m\u001b[1;33m(\u001b[0m\u001b[0mjava_options\u001b[0m\u001b[1;33m,\u001b[0m \u001b[0mkwargs\u001b[0m\u001b[1;33m,\u001b[0m \u001b[0mpath\u001b[0m\u001b[1;33m,\u001b[0m \u001b[0mencoding\u001b[0m\u001b[1;33m)\u001b[0m\u001b[1;33m\u001b[0m\u001b[1;33m\u001b[0m\u001b[0m\n\u001b[0m\u001b[0;32m    323\u001b[0m     \u001b[1;32mfinally\u001b[0m\u001b[1;33m:\u001b[0m\u001b[1;33m\u001b[0m\u001b[1;33m\u001b[0m\u001b[0m\n\u001b[0;32m    324\u001b[0m         \u001b[1;32mif\u001b[0m \u001b[0mtemporary\u001b[0m\u001b[1;33m:\u001b[0m\u001b[1;33m\u001b[0m\u001b[1;33m\u001b[0m\u001b[0m\n",
      "\u001b[1;32m~\\anaconda3\\lib\\site-packages\\tabula\\io.py\u001b[0m in \u001b[0;36m_run\u001b[1;34m(java_options, options, path, encoding)\u001b[0m\n\u001b[0;32m     78\u001b[0m \u001b[1;33m\u001b[0m\u001b[0m\n\u001b[0;32m     79\u001b[0m     \u001b[1;32mtry\u001b[0m\u001b[1;33m:\u001b[0m\u001b[1;33m\u001b[0m\u001b[1;33m\u001b[0m\u001b[0m\n\u001b[1;32m---> 80\u001b[1;33m         result = subprocess.run(\n\u001b[0m\u001b[0;32m     81\u001b[0m             \u001b[0margs\u001b[0m\u001b[1;33m,\u001b[0m\u001b[1;33m\u001b[0m\u001b[1;33m\u001b[0m\u001b[0m\n\u001b[0;32m     82\u001b[0m             \u001b[0mstdout\u001b[0m\u001b[1;33m=\u001b[0m\u001b[0msubprocess\u001b[0m\u001b[1;33m.\u001b[0m\u001b[0mPIPE\u001b[0m\u001b[1;33m,\u001b[0m\u001b[1;33m\u001b[0m\u001b[1;33m\u001b[0m\u001b[0m\n",
      "\u001b[1;32m~\\anaconda3\\lib\\subprocess.py\u001b[0m in \u001b[0;36mrun\u001b[1;34m(input, capture_output, timeout, check, *popenargs, **kwargs)\u001b[0m\n\u001b[0;32m    510\u001b[0m         \u001b[0mretcode\u001b[0m \u001b[1;33m=\u001b[0m \u001b[0mprocess\u001b[0m\u001b[1;33m.\u001b[0m\u001b[0mpoll\u001b[0m\u001b[1;33m(\u001b[0m\u001b[1;33m)\u001b[0m\u001b[1;33m\u001b[0m\u001b[1;33m\u001b[0m\u001b[0m\n\u001b[0;32m    511\u001b[0m         \u001b[1;32mif\u001b[0m \u001b[0mcheck\u001b[0m \u001b[1;32mand\u001b[0m \u001b[0mretcode\u001b[0m\u001b[1;33m:\u001b[0m\u001b[1;33m\u001b[0m\u001b[1;33m\u001b[0m\u001b[0m\n\u001b[1;32m--> 512\u001b[1;33m             raise CalledProcessError(retcode, process.args,\n\u001b[0m\u001b[0;32m    513\u001b[0m                                      output=stdout, stderr=stderr)\n\u001b[0;32m    514\u001b[0m     \u001b[1;32mreturn\u001b[0m \u001b[0mCompletedProcess\u001b[0m\u001b[1;33m(\u001b[0m\u001b[0mprocess\u001b[0m\u001b[1;33m.\u001b[0m\u001b[0margs\u001b[0m\u001b[1;33m,\u001b[0m \u001b[0mretcode\u001b[0m\u001b[1;33m,\u001b[0m \u001b[0mstdout\u001b[0m\u001b[1;33m,\u001b[0m \u001b[0mstderr\u001b[0m\u001b[1;33m)\u001b[0m\u001b[1;33m\u001b[0m\u001b[1;33m\u001b[0m\u001b[0m\n",
      "\u001b[1;31mCalledProcessError\u001b[0m: Command '['java', '-Dfile.encoding=UTF8', '-jar', 'C:\\\\Users\\\\serha\\\\anaconda3\\\\lib\\\\site-packages\\\\tabula\\\\tabula-1.0.5-jar-with-dependencies.jar', '--pages', 'all', '--guess', '--format', 'JSON', 'C:/Users/serha/OneDrive/Masaüstü/MyRepo/OCR-project/input/Allianz boyalı poliçe pdf[2].pdf']' returned non-zero exit status 1."
     ]
    }
   ],
   "source": [
    "#For extracting all the tables in pdf file\n",
    "for file in files:\n",
    "    path = \"C:/Users/serha/OneDrive/Masaüstü/MyRepo/OCR-project/input/\" + file\n",
    "    df = tabula.read_pdf(path, pages = '1', multiple_tables = True) #page no which you want to\n",
    "                                                                    #extract,or 'all' for all the pages\n",
    "    print(df)"
   ]
  },
  {
   "cell_type": "code",
   "execution_count": null,
   "id": "f79833ad",
   "metadata": {},
   "outputs": [],
   "source": []
  },
  {
   "cell_type": "code",
   "execution_count": null,
   "id": "6d776acb",
   "metadata": {},
   "outputs": [],
   "source": []
  }
 ],
 "metadata": {
  "kernelspec": {
   "display_name": "Python 3",
   "language": "python",
   "name": "python3"
  },
  "language_info": {
   "codemirror_mode": {
    "name": "ipython",
    "version": 3
   },
   "file_extension": ".py",
   "mimetype": "text/x-python",
   "name": "python",
   "nbconvert_exporter": "python",
   "pygments_lexer": "ipython3",
   "version": "3.8.5"
  }
 },
 "nbformat": 4,
 "nbformat_minor": 5
}
